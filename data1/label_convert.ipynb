{
 "cells": [
  {
   "cell_type": "code",
   "execution_count": 8,
   "metadata": {
    "collapsed": false
   },
   "outputs": [
    {
     "name": "stdout",
     "output_type": "stream",
     "text": [
      "load mat file successfully.\n{'target3_1': array([[205,  18,  90,  40],\n       [205,  17,  90,  40],\n       [205,  17,  90,  40],\n       ..., \n       [205,  28,  90,  40],\n       [205,  27,  90,  40],\n       [205,  27,  90,  40]], dtype=uint8), 'target3_2': array([[380,   5,  80,  40],\n       [380,   4,  80,  40],\n       [380,   4,  80,  40],\n       ..., \n       [380,  15,  80,  40],\n       [380,  14,  80,  40],\n       [380,  14,  80,  40]], dtype=uint16), 'target3_3': array([[570,  12,  90,  40],\n       [570,  11,  90,  40],\n       [570,  11,  90,  40],\n       ..., \n       [570,  22,  90,  40],\n       [570,  21,  90,  40],\n       [570,  21,  90,  40]], dtype=uint16), 'target1': array([[438,  34,  90,  40],\n       [438,  33,  90,  40],\n       [438,  33,  90,  40],\n       ..., \n       [438,  44,  90,  40],\n       [438,  43,  90,  40],\n       [438,  43,  90,  40]], dtype=uint16), '__header__': b'MATLAB 5.0 MAT-file, Platform: PCWIN64, Created on: Thu Mar 23 20:41:16 2017', '__version__': '1.0', '__globals__': [], 'target3_4': array([[740,  12, 100,  50],\n       [740,  11, 100,  50],\n       [740,  11, 100,  50],\n       ..., \n       [740,  22, 100,  50],\n       [740,  21, 100,  50],\n       [740,  21, 100,  50]], dtype=uint16), 'source_img': array([[[ 1220.26431563,  1007.37381344,  1552.30570443, ...,\n          1571.55973479,   696.16664672,  1342.5028864 ],\n        [ 1855.57430463,   982.09673658,  2742.60259608, ...,\n          1781.26303504,  1254.45207162,  1625.08584389],\n        [ 4645.27652568,  5254.2079327 ,  1261.93224858, ...,\n          2485.61380749,  3044.12434043,  1821.51502876],\n        ..., \n        [ 1466.41365242,  4300.87026077,  1049.08054981, ...,\n           991.48071086,  4254.65639036,  3719.00658779],\n        [  718.1399585 ,  1149.20711797,  1146.6860948 , ...,\n           319.06112267,  1063.91024057,  1701.4358642 ],\n        [ 1089.62378829,  2771.27587945,  3668.09282871, ...,\n           741.74119476,   568.63081169,   426.25109971]],\n\n       [[ 2036.51025185,  2679.11495284,  2017.96651965, ...,\n          1617.87117717,  1390.9735436 ,  2419.26621139],\n        [ 2676.28635762,  4522.31169437,  3034.55769213, ...,\n          2942.75378905,  2179.66609762,  1501.98529777],\n        [ 3627.84608315,  1905.58718024,  1766.6441368 , ...,\n          1221.04456814,   635.99129807,   992.6236515 ],\n        ..., \n        [ 1536.7975892 ,   744.82259943,  3918.49675146, ...,\n           966.74934819,  3015.83713703,  4223.52062449],\n        [ 4418.56504401,  2836.64087314,  2371.37124126, ...,\n          1926.33636387,  1694.41902439,  2105.46678482],\n        [ 3260.5031563 ,  1694.29988329,  4615.29129737, ...,\n          1620.78665318,  1432.03805615,   738.37771259]],\n\n       [[ 3513.87955899,  2674.55513849,  1524.47914635, ...,\n           952.08058422,  1980.48420693,  3629.75859315],\n        [ 4486.77797572,  2273.34597741,  4259.47651202, ...,\n           575.30872491,  1621.4673217 ,  1579.25675075],\n        [ 2780.89284819,  1857.23795505,  3401.62859079, ...,\n           642.65430868,   450.38250475,  1177.97257779],\n        ..., \n        [ 2245.09908829,   135.07029034,  2824.19963154, ...,\n          1402.86099711,  1594.98153213,   927.11810107],\n        [ 2222.05332404,  1262.31576851,  2765.26290022, ...,\n          2516.39159201,  3476.1506178 ,   357.4444981 ],\n        [ 4259.4329167 ,  4094.33466518,  5802.54110241, ...,\n          1555.98091168,  1212.65244979,   704.30166111]],\n\n       ..., \n       [[ 3045.53285255,  3032.59298478,  3283.28343853, ...,\n          1261.84523007,  3780.75134796,  3167.29694601],\n        [ 4047.81971457,  2746.53786047,  1138.74009776, ...,\n          1468.29836094,  1246.12180053,  1154.87089986],\n        [ 3396.92533615,  5047.16121168,  1811.27705737, ...,\n          1839.81348239,  1685.34201419,  3142.90324425],\n        ..., \n        [ 2327.44506669,  2264.54327976,  4643.64040679, ...,\n          1916.28884821,  3133.3215723 ,  4922.05866524],\n        [ 2401.72091922,  1855.80696466,  2998.17963736, ...,\n          1605.52492225,  2482.81979637,  2083.57102771],\n        [ 1397.13066896,   109.44132772,  3011.35932587, ...,\n           457.28850228,  2049.29139644,   983.06574324]],\n\n       [[ 2104.50888099,  2152.11082711,   710.43310337, ...,\n          1073.01732164,  2199.61365014,  1512.92274594],\n        [  439.58499117,  1866.87749743,  2032.34140211, ...,\n          1071.13954708,   552.32068211,   960.95989809],\n        [ 1116.40681019,  2968.25720254,  2515.0502358 , ...,\n          2715.67146108,  3561.49050207,  1547.91718536],\n        ..., \n        [ 3504.48808486,  2380.37543018,   997.64273584, ...,\n          3648.41916042,  2950.56634959,  2730.00146926],\n        [ 1303.3947485 ,   216.34723429,  5185.92312588, ...,\n           590.65845086,  1638.54685579,  3203.63277435],\n        [ 2199.36225567,  1476.47036202,  4506.08238363, ...,\n          1407.46222404,  1098.82249466,  1846.58276891]],\n\n       [[ 2195.3331527 ,  1357.44874939,   747.52590105, ...,\n          2534.16974621,  2287.31456471,  2087.59558249],\n        [ 5639.68267026,  1894.57098665,  2059.77914223, ...,\n          2335.98449565,  2090.56542779,  2056.60659703],\n        [ 1812.77077022,  3899.27706635,  1021.68217402, ...,\n          3300.95476033,  2491.19341029,  1610.46050565],\n        ..., \n        [ 1120.61200959,  2747.98710083,  3347.70100604, ...,\n          1649.24476428,   855.57780427,  1991.85704897],\n        [ 1342.84070765,  1849.34427121,  1924.48010803, ...,\n           562.15020402,  2096.45599744,  2524.10755577],\n        [ 2128.46677429,  2005.31239695,  3397.75137358, ...,\n          2509.227321  ,  2562.62062981,  1528.4369618 ]]])}\n"
     ]
    }
   ],
   "source": [
    "import os\n",
    "import scipy.io as sio\n",
    "import numpy as np\n",
    "\n",
    "# 从mat文件中提取原始标定信息\n",
    "path = '/home/mxqian/Projects/production_practice/data/data1/condition2_1.mat'\n",
    "# 从经过可视化后的图片文件中提取文件名信息\n",
    "image_path = \"/home/mxqian/Projects/production_practice/data_convert/data1/condition2_1\"\n",
    "# 存放标记文件的目录\n",
    "label_file_path = \"/home/mxqian/Projects/production_practice/data_convert/label_file/data1/condition2_1\"\n",
    "mat_file = sio.loadmat(path)\n",
    "print(\"load mat file successfully.\")\n",
    "print(mat_file)"
   ]
  },
  {
   "cell_type": "code",
   "execution_count": 2,
   "metadata": {},
   "outputs": [],
   "source": [
    "# size为图片的大小，box为标记信息\n",
    "def convert(size, box):\n",
    "    # 在原始标记信息中，图像宽度和图像高度是反过来的．\n",
    "    width, height = size[1], size[0]\n",
    "    # print(width, height)\n",
    "    x, y, box_width, box_height = box[0], box[1], box[2], box[3]\n",
    "    # print(x, y, box_width, box_height)\n",
    "    x_convert = x/width\n",
    "    y_convert = y/height\n",
    "    box_width_convert = box_width/width\n",
    "    box_height_convert = box_height/height\n",
    "    return x_convert, y_convert, box_width_convert, box_height_convert"
   ]
  },
  {
   "cell_type": "code",
   "execution_count": 4,
   "metadata": {},
   "outputs": [
    {
     "name": "stdout",
     "output_type": "stream",
     "text": [
      "[ 40  64 120  30] [200  61 200  40] [600  61 200  40]\n(0.049937578027465665, 0.5, 0.14981273408239701, 0.234375) (0.24968789013732834, 0.4765625, 0.24968789013732834, 0.3125) (0.74906367041198507, 0.4765625, 0.24968789013732834, 0.3125)\n"
     ]
    }
   ],
   "source": [
    "# 该程序块用于对原始标记信息进行归一化\n",
    "size = np.shape(mat_file['source_img'])\n",
    "# print(size)\n",
    "target1_box = mat_file['target1'][0]\n",
    "target3_1_box = mat_file['target3_1'][0]\n",
    "target3_2_box = mat_file['target3_2'][0]\n",
    "print(target1_box, target3_1_box, target3_2_box)\n",
    "target1_box_convert = convert(size, target1_box)\n",
    "target3_1_box_convert = convert(size, target3_1_box)\n",
    "target3_2_box_convert = convert(size, target3_2_box)\n",
    "print(target1_box_convert, target3_1_box_convert, target3_2_box_convert)"
   ]
  },
  {
   "cell_type": "code",
   "execution_count": 5,
   "metadata": {},
   "outputs": [],
   "source": [
    "# 创建标记文件（空文件）\n",
    "image_filename = os.listdir(image_path)\n",
    "# 将样本名称抽取出来，创建同名.txt文件，用于存放标记信息\n",
    "for file in image_filename:\n",
    "    file = file.split('.')[0]\n",
    "    os.mknod(label_file_path + \"/\" + file + '.txt')"
   ]
  },
  {
   "cell_type": "code",
   "execution_count": 7,
   "metadata": {},
   "outputs": [
    {
     "name": "stdout",
     "output_type": "stream",
     "text": [
      "121302.txt\n121590.txt\n12632.txt\n12582.txt\n12155.txt\n121525.txt\n121431.txt\n12922.txt\n121688.txt\n121040.txt\n12964.txt\n12800.txt\n121177.txt\n121180.txt\n121784.txt\n12292.txt\n121718.txt\n12526.txt\n12250.txt\n12862.txt\n121642.txt\n121703.txt\n121722.txt\n12557.txt\n12667.txt\n12273.txt\n12131.txt\n12783.txt\n121046.txt\n1292.txt\n121672.txt\n12967.txt\n12637.txt\n12789.txt\n12915.txt\n121274.txt\n12604.txt\n121523.txt\n12165.txt\n12337.txt\n12961.txt\n12683.txt\n121665.txt\n121164.txt\n1254.txt\n121325.txt\n12311.txt\n121003.txt\n121118.txt\n1222.txt\n12830.txt\n121373.txt\n12896.txt\n121474.txt\n12898.txt\n12887.txt\n12808.txt\n121266.txt\n12215.txt\n121489.txt\n12399.txt\n121436.txt\n121323.txt\n12448.txt\n12512.txt\n12154.txt\n121566.txt\n12277.txt\n12578.txt\n12545.txt\n121451.txt\n12785.txt\n121270.txt\n121032.txt\n12477.txt\n12535.txt\n12986.txt\n12882.txt\n12756.txt\n12995.txt\n12530.txt\n12441.txt\n121124.txt\n12369.txt\n121493.txt\n121692.txt\n121570.txt\n121710.txt\n12670.txt\n12153.txt\n122.txt\n12878.txt\n12524.txt\n1279.txt\n12630.txt\n121094.txt\n12563.txt\n12242.txt\n12256.txt\n12351.txt\n12795.txt\n121150.txt\n12705.txt\n121767.txt\n12580.txt\n121244.txt\n129.txt\n121200.txt\n12144.txt\n12888.txt\n12748.txt\n121448.txt\n1255.txt\n121423.txt\n12731.txt\n121613.txt\n121108.txt\n12712.txt\n12293.txt\n12873.txt\n12504.txt\n12891.txt\n121093.txt\n121318.txt\n121610.txt\n121386.txt\n121347.txt\n121641.txt\n121501.txt\n121629.txt\n12834.txt\n121510.txt\n12496.txt\n12287.txt\n12716.txt\n121543.txt\n12137.txt\n121581.txt\n121175.txt\n121670.txt\n121728.txt\n12257.txt\n12929.txt\n12894.txt\n12982.txt\n12152.txt\n12538.txt\n121114.txt\n12838.txt\n121637.txt\n121596.txt\n121223.txt\n12575.txt\n12415.txt\n121534.txt\n1298.txt\n12821.txt\n12985.txt\n121097.txt\n121337.txt\n12378.txt\n121140.txt\n12456.txt\n121042.txt\n12299.txt\n121309.txt\n12519.txt\n121467.txt\n121740.txt\n12892.txt\n12262.txt\n12592.txt\n12631.txt\n121366.txt\n12350.txt\n121742.txt\n121676.txt\n12387.txt\n121115.txt\n12130.txt\n12919.txt\n12206.txt\n12963.txt\n12379.txt\n121338.txt\n12831.txt\n12797.txt\n121194.txt\n121593.txt\n12163.txt\n12648.txt\n12741.txt\n12336.txt\n12559.txt\n12710.txt\n121515.txt\n12466.txt\n12229.txt\n12552.txt\n12442.txt\n12901.txt\n121159.txt\n121434.txt\n121364.txt\n12440.txt\n12987.txt\n12553.txt\n1295.txt\n121198.txt\n12282.txt\n12443.txt\n1220.txt\n12585.txt\n121172.txt\n121195.txt\n12179.txt\n121044.txt\n121374.txt\n121677.txt\n121687.txt\n121385.txt\n12119.txt\n12769.txt\n12740.txt\n121210.txt\n121372.txt\n12686.txt\n12884.txt\n121399.txt\n1261.txt\n121512.txt\n1224.txt\n12286.txt\n12366.txt\n121296.txt\n12917.txt\n12579.txt\n121311.txt\n12403.txt\n12844.txt\n12681.txt\n12688.txt\n12690.txt\n12743.txt\n12865.txt\n12521.txt\n12125.txt\n12624.txt\n121428.txt\n12909.txt\n12245.txt\n1265.txt\n121253.txt\n121422.txt\n12737.txt\n121220.txt\n12343.txt\n121213.txt\n1272.txt\n121684.txt\n1221.txt\n121196.txt\n121682.txt\n121622.txt\n121752.txt\n121418.txt\n12776.txt\n121235.txt\n12118.txt\n12616.txt\n121424.txt\n12989.txt\n121709.txt\n12276.txt\n12643.txt\n121034.txt\n12881.txt\n121558.txt\n1289.txt\n121433.txt\n12539.txt\n121576.txt\n1258.txt\n121757.txt\n12178.txt\n121578.txt\n12860.txt\n121071.txt\n12101.txt\n121683.txt\n12322.txt\n12601.txt\n12501.txt\n12742.txt\n12947.txt\n121221.txt\n12334.txt\n12127.txt\n121315.txt\n121033.txt\n121463.txt\n121035.txt\n12515.txt\n12660.txt\n12934.txt\n12599.txt\n12342.txt\n121564.txt\n12669.txt\n12709.txt\n12588.txt\n12177.txt\n121129.txt\n121511.txt\n121007.txt\n12309.txt\n12754.txt\n121763.txt\n121419.txt\n12763.txt\n12930.txt\n121340.txt\n121449.txt\n12687.txt\n12222.txt\n121206.txt\n121574.txt\n12551.txt\n121495.txt\n121447.txt\n121659.txt\n12760.txt\n121082.txt\n12313.txt\n12141.txt\n12943.txt\n121731.txt\n121055.txt\n12890.txt\n121780.txt\n12194.txt\n12595.txt\n121406.txt\n12867.txt\n12383.txt\n12645.txt\n12998.txt\n12747.txt\n121147.txt\n12314.txt\n12423.txt\n12650.txt\n12977.txt\n12799.txt\n12384.txt\n12610.txt\n12508.txt\n12638.txt\n12566.txt\n12486.txt\n1264.txt\n12813.txt\n121241.txt\n121656.txt\n12140.txt\n12684.txt\n125.txt\n12151.txt\n121444.txt\n12662.txt\n12720.txt\n12968.txt\n12260.txt\n121130.txt\n12225.txt\n121085.txt\n121268.txt\n12951.txt\n12695.txt\n1229.txt\n12912.txt\n12173.txt\n12703.txt\n121074.txt\n12263.txt\n12325.txt\n12805.txt\n1283.txt\n12352.txt\n121344.txt\n12484.txt\n12677.txt\n121674.txt\n12162.txt\n121729.txt\n12513.txt\n12946.txt\n121089.txt\n121475.txt\n12272.txt\n121365.txt\n12493.txt\n12994.txt\n12388.txt\n121536.txt\n121294.txt\n123.txt\n12911.txt\n121437.txt\n121547.txt\n121023.txt\n12467.txt\n121623.txt\n1234.txt\n1277.txt\n121663.txt\n121480.txt\n121096.txt\n121066.txt\n121254.txt\n1284.txt\n12815.txt\n12161.txt\n1252.txt\n12148.txt\n121529.txt\n1240.txt\n121466.txt\n121405.txt\n12825.txt\n121477.txt\n121561.txt\n121402.txt\n12531.txt\n121513.txt\n12182.txt\n12454.txt\n12503.txt\n121224.txt\n12305.txt\n121594.txt\n121779.txt\n121393.txt\n121098.txt\n121776.txt\n121490.txt\n12997.txt\n121614.txt\n12428.txt\n12289.txt\n121530.txt\n121111.txt\n12773.txt\n1286.txt\n12429.txt\n12240.txt\n121334.txt\n12304.txt\n1263.txt\n121586.txt\n12156.txt\n12357.txt\n121453.txt\n12672.txt\n12104.txt\n12249.txt\n121686.txt\n12200.txt\n121138.txt\n121651.txt\n12847.txt\n12761.txt\n12495.txt\n12952.txt\n121658.txt\n12476.txt\n121748.txt\n1281.txt\n12469.txt\n12749.txt\n121679.txt\n12362.txt\n12822.txt\n12139.txt\n121238.txt\n121153.txt\n121189.txt\n121667.txt\n12620.txt\n12718.txt\n121343.txt\n12434.txt\n121289.txt\n12957.txt\n12121.txt\n121617.txt\n12753.txt\n12418.txt\n121387.txt\n121612.txt\n12755.txt\n121573.txt\n12733.txt\n121170.txt\n12356.txt\n12790.txt\n121439.txt\n121014.txt\n12209.txt\n12628.txt\n121317.txt\n121265.txt\n121708.txt\n121544.txt\n12307.txt\n121021.txt\n121212.txt\n121119.txt\n12692.txt\n12724.txt\n121727.txt\n12408.txt\n12321.txt\n12766.txt\n12113.txt\n12474.txt\n12533.txt\n12528.txt\n121400.txt\n121700.txt\n121045.txt\n12728.txt\n121396.txt\n12312.txt\n12811.txt\n121730.txt\n121038.txt\n121452.txt\n121392.txt\n121208.txt\n121255.txt\n12380.txt\n12671.txt\n12253.txt\n121426.txt\n121320.txt\n12782.txt\n12363.txt\n12391.txt\n12396.txt\n121126.txt\n121282.txt\n121604.txt\n12969.txt\n12937.txt\n121673.txt\n121157.txt\n12458.txt\n121174.txt\n12856.txt\n1228.txt\n121135.txt\n121128.txt\n121191.txt\n12706.txt\n12201.txt\n12596.txt\n12412.txt\n12303.txt\n121429.txt\n12109.txt\n12810.txt\n121305.txt\n121345.txt\n1297.txt\n121151.txt\n121527.txt\n121582.txt\n12164.txt\n12212.txt\n12841.txt\n121293.txt\n1274.txt\n12949.txt"
     ]
    },
    {
     "name": "stdout",
     "output_type": "stream",
     "text": [
      "\n1225.txt\n121403.txt\n12606.txt\n12158.txt\n121609.txt\n12678.txt\n121384.txt\n1270.txt\n12612.txt\n12324.txt\n121222.txt\n12876.txt\n12622.txt\n12702.txt\n121455.txt\n121117.txt\n12623.txt\n121521.txt\n12424.txt\n12629.txt\n121167.txt\n12665.txt\n12717.txt\n12902.txt\n1296.txt\n12581.txt\n12326.txt\n12430.txt\n121420.txt\n121346.txt\n1256.txt\n12347.txt\n12199.txt\n12405.txt\n12359.txt\n12953.txt\n121664.txt\n121568.txt\n12219.txt\n121775.txt\n121770.txt\n12666.txt\n121088.txt\n12329.txt\n121075.txt\n121281.txt\n121298.txt\n121599.txt\n121470.txt\n12794.txt\n121163.txt\n12197.txt\n121178.txt\n121358.txt\n121726.txt\n12481.txt\n12981.txt\n12213.txt\n12270.txt\n121006.txt\n121487.txt\n12169.txt\n121458.txt\n121550.txt\n12461.txt\n12364.txt\n121152.txt\n12713.txt\n12520.txt\n121771.txt\n12464.txt\n12721.txt\n121008.txt\n12550.txt\n12207.txt\n121011.txt\n121542.txt\n121043.txt\n12417.txt\n12188.txt\n12587.txt\n121633.txt\n12335.txt\n12393.txt\n121699.txt\n12708.txt\n12174.txt\n12697.txt\n121548.txt\n121471.txt\n121653.txt\n121526.txt\n121680.txt\n121262.txt\n12372.txt\n12916.txt\n121169.txt\n12166.txt\n12518.txt\n12542.txt\n121132.txt\n121522.txt\n121183.txt\n121229.txt\n12853.txt\n12561.txt\n121230.txt\n121029.txt\n121107.txt\n12254.txt\n121559.txt\n121541.txt\n12344.txt\n1237.txt\n121269.txt\n121313.txt\n1275.txt\n12685.txt\n12500.txt\n121168.txt\n121538.txt\n12374.txt\n121081.txt\n121737.txt\n121597.txt\n12381.txt\n12984.txt\n121300.txt\n12280.txt\n12296.txt\n121053.txt\n121539.txt\n12407.txt\n1257.txt\n12679.txt\n121619.txt\n12586.txt\n121621.txt\n12993.txt\n12238.txt\n12298.txt\n121217.txt\n12809.txt\n1230.txt\n12332.txt\n121156.txt\n121013.txt\n121086.txt\n12603.txt\n121598.txt\n121272.txt\n12395.txt\n121099.txt\n12999.txt\n12269.txt\n12431.txt\n12704.txt\n12572.txt\n12453.txt\n12899.txt\n12422.txt\n121264.txt\n121184.txt\n121618.txt\n121095.txt\n12564.txt\n12243.txt\n121165.txt\n121636.txt\n121615.txt\n121509.txt\n121666.txt\n12392.txt\n121778.txt\n121336.txt\n121166.txt\n121537.txt\n12584.txt\n12489.txt\n121357.txt\n121105.txt\n12945.txt\n12719.txt\n121121.txt\n121669.txt\n121024.txt\n12696.txt\n121520.txt\n12864.txt\n121497.txt\n12462.txt\n121144.txt\n12607.txt\n12226.txt\n121430.txt\n121057.txt\n12780.txt\n121698.txt\n12514.txt\n12845.txt\n12837.txt\n121036.txt\n121721.txt\n121031.txt\n121271.txt\n12828.txt\n121141.txt\n12167.txt\n121288.txt\n121022.txt\n12569.txt\n121148.txt\n12725.txt\n121412.txt\n1271.txt\n12732.txt\n121398.txt\n12680.txt\n121112.txt\n12913.txt\n121410.txt\n12192.txt\n12111.txt\n121725.txt\n12409.txt\n121283.txt\n121782.txt\n12455.txt\n121149.txt\n12848.txt\n121137.txt\n12647.txt\n12591.txt\n12570.txt\n12926.txt\n12142.txt\n12108.txt\n1239.txt\n121027.txt\n12991.txt\n121207.txt\n121367.txt\n12328.txt\n12549.txt\n121518.txt\n121394.txt\n121067.txt\n12851.txt\n121297.txt\n121601.txt\n121158.txt\n121376.txt\n12850.txt\n121516.txt\n12694.txt\n121499.txt\n121492.txt\n121671.txt\n12983.txt\n121050.txt\n121505.txt\n12863.txt\n12527.txt\n121049.txt\n12510.txt\n12914.txt\n121459.txt\n12146.txt\n121060.txt\n121758.txt\n12804.txt\n121540.txt\n12619.txt\n121395.txt\n121414.txt\n12300.txt\n121465.txt\n12954.txt\n12413.txt\n121051.txt\n121380.txt\n121308.txt\n121285.txt\n12517.txt\n12525.txt\n121549.txt\n12297.txt\n12959.txt\n121702.txt\n121301.txt\n121069.txt\n121638.txt\n121734.txt\n12942.txt\n12181.txt\n121025.txt\n12889.txt\n121287.txt\n121675.txt\n12251.txt\n12613.txt\n1276.txt\n12558.txt\n121473.txt\n1211.txt\n121249.txt\n12255.txt\n121278.txt\n121162.txt\n121284.txt\n12451.txt\n1260.txt\n121753.txt\n121440.txt\n121216.txt\n12157.txt\n12682.txt\n12346.txt\n126.txt\n121407.txt\n121647.txt\n12394.txt\n121783.txt\n121087.txt\n1290.txt\n121620.txt\n121583.txt\n12842.txt\n121125.txt\n121750.txt\n121100.txt\n12211.txt\n121785.txt\n121443.txt\n121427.txt\n121494.txt\n1291.txt\n12463.txt\n12398.txt\n12824.txt\n12340.txt\n12345.txt\n12265.txt\n121506.txt\n12323.txt\n12509.txt\n121382.txt\n12445.txt\n121203.txt\n12693.txt\n1214.txt\n121766.txt\n12439.txt\n12221.txt\n12762.txt\n12150.txt\n121557.txt\n121292.txt\n1235.txt\n12214.txt\n12341.txt\n121348.txt\n121273.txt\n12410.txt\n12903.txt\n121329.txt\n121631.txt\n121201.txt\n121755.txt\n12931.txt\n12906.txt\n1262.txt\n121326.txt\n121017.txt\n12204.txt\n121503.txt\n12330.txt\n121535.txt\n12722.txt\n121719.txt\n12266.txt\n12223.txt\n12122.txt\n12608.txt\n12562.txt\n12536.txt\n12617.txt\n121155.txt\n12227.txt\n121630.txt\n121478.txt\n12532.txt\n121781.txt\n121579.txt\n121257.txt\n12701.txt\n12189.txt\n12970.txt\n12774.txt\n121092.txt\n124.txt\n12400.txt\n121214.txt\n12886.txt\n12114.txt\n12778.txt\n12267.txt\n121476.txt\n12459.txt\n12252.txt\n12950.txt\n121263.txt\n12472.txt\n12246.txt\n12965.txt\n121761.txt\n121259.txt\n12996.txt\n12746.txt\n121378.txt\n121717.txt\n121356.txt\n12432.txt\n121359.txt\n12565.txt\n12283.txt\n12807.txt\n1268.txt\n12962.txt\n12972.txt\n128.txt\n12404.txt\n12857.txt\n12639.txt\n121176.txt\n12801.txt\n121409.txt\n121514.txt\n121777.txt\n121482.txt\n121469.txt\n12936.txt\n12958.txt\n1210.txt\n121028.txt\n121250.txt\n12640.txt\n12507.txt\n121417.txt\n12932.txt\n12112.txt\n121454.txt\n12435.txt\n121435.txt\n121555.txt\n12261.txt\n121016.txt\n12699.txt\n121316.txt\n121091.txt\n12829.txt\n121732.txt\n121182.txt\n121276.txt\n121059.txt\n1217.txt\n12727.txt\n12843.txt\n12444.txt\n12875.txt\n121370.txt\n12128.txt\n12764.txt\n12106.txt\n121646.txt\n12284.txt\n121018.txt\n12202.txt\n12634.txt\n12426.txt\n12203.txt\n12602.txt\n12236.txt\n12176.txt\n12653.txt\n12820.txt\n121404.txt\n121185.txt\n12668.txt\n121585.txt\n121225.txt\n12736.txt\n121508.txt\n121061.txt\n121491.txt\n1278.txt\n127.txt\n121632.txt\n12752.txt\n121252.txt\n121076.txt\n12627.txt\n12642.txt\n12133.txt\n12186.txt\n12294.txt\n121460.txt\n12979.txt\n12573.txt\n121744.txt\n12237.txt\n12149.txt\n12871.txt\n121052.txt\n121634.txt\n121047.txt\n121078.txt\n121237.txt\n121072.txt\n121123.txt\n1243.txt\n12707.txt"
     ]
    },
    {
     "name": "stdout",
     "output_type": "stream",
     "text": [
      "\n121524.txt\n121256.txt\n12990.txt\n12511.txt\n121643.txt\n12126.txt\n121485.txt\n121068.txt\n12228.txt\n121219.txt\n12248.txt\n121131.txt\n12852.txt\n121136.txt\n12365.txt\n12331.txt\n121438.txt\n12849.txt\n12568.txt\n12975.txt\n121019.txt\n12285.txt\n121204.txt\n1226.txt\n1246.txt\n121580.txt\n121600.txt\n12600.txt\n12655.txt\n12675.txt\n121246.txt\n121589.txt\n121668.txt\n121039.txt\n121134.txt\n121602.txt\n121209.txt\n12895.txt\n121000.txt\n1250.txt\n121248.txt\n1248.txt\n12371.txt\n12499.txt\n12180.txt\n12239.txt\n12281.txt\n12370.txt\n12547.txt\n12883.txt\n12729.txt\n121774.txt\n121133.txt\n121228.txt\n12636.txt\n121754.txt\n121694.txt\n12168.txt\n12373.txt\n121242.txt\n12858.txt\n121379.txt\n121701.txt\n121644.txt\n12792.txt\n121312.txt\n121113.txt\n121073.txt\n121565.txt\n12577.txt\n12534.txt\n12923.txt\n121432.txt\n121681.txt\n12449.txt\n12327.txt\n12446.txt\n12885.txt\n12633.txt\n12541.txt\n12135.txt\n121239.txt\n12258.txt\n121760.txt\n12609.txt\n12657.txt\n1241.txt\n12779.txt\n12908.txt\n121321.txt\n121628.txt\n1215.txt\n12625.txt\n121769.txt\n12597.txt\n121567.txt\n12416.txt\n121678.txt\n121464.txt\n12397.txt\n121545.txt\n121446.txt\n1251.txt\n121413.txt\n1212.txt\n12436.txt\n121654.txt\n121218.txt\n121026.txt\n12656.txt\n121640.txt\n12827.txt\n12798.txt\n12494.txt\n121391.txt\n121479.txt\n121488.txt\n121756.txt\n121243.txt\n12358.txt\n12654.txt\n12190.txt\n12308.txt\n121751.txt\n121551.txt\n12787.txt\n121571.txt\n12457.txt\n121145.txt\n12470.txt\n121441.txt\n121181.txt\n12419.txt\n121353.txt\n12757.txt\n121720.txt\n1219.txt\n121584.txt\n1245.txt\n121416.txt\n121603.txt\n12482.txt\n12726.txt\n12546.txt\n12738.txt\n12711.txt\n12590.txt\n121171.txt\n121005.txt\n121772.txt\n1247.txt\n12485.txt\n12574.txt\n121215.txt\n1285.txt\n12855.txt\n12833.txt\n121713.txt\n121773.txt\n121030.txt\n12136.txt\n12641.txt\n121303.txt\n12295.txt\n121689.txt\n121652.txt\n12583.txt\n121711.txt\n12185.txt\n12475.txt\n121415.txt\n121616.txt\n121498.txt\n12414.txt\n121062.txt\n121577.txt\n12231.txt\n12230.txt\n12502.txt\n12421.txt\n12290.txt\n121090.txt\n121139.txt\n121371.txt\n12271.txt\n12651.txt\n12973.txt\n12205.txt\n1236.txt\n121106.txt\n121015.txt\n12802.txt\n12765.txt\n121500.txt\n121575.txt\n12920.txt\n12893.txt\n121333.txt\n12170.txt\n121546.txt\n1280.txt\n12159.txt\n121179.txt\n12487.txt\n12279.txt\n12974.txt\n121762.txt\n121695.txt\n12571.txt\n121607.txt\n12556.txt\n1267.txt\n12635.txt\n1287.txt\n12978.txt\n12244.txt\n12316.txt\n121697.txt\n121277.txt\n1259.txt\n12224.txt\n12904.txt\n12758.txt\n121002.txt\n121226.txt\n121768.txt\n121103.txt\n12198.txt\n121743.txt\n12768.txt\n121245.txt\n12661.txt\n121279.txt\n12835.txt\n121054.txt\n1238.txt\n121193.txt\n12175.txt\n12390.txt\n12944.txt\n121468.txt\n12375.txt\n121716.txt\n121064.txt\n12933.txt\n12505.txt\n12275.txt\n121290.txt\n12349.txt\n12818.txt\n121234.txt\n121712.txt\n12402.txt\n12605.txt\n121143.txt\n12874.txt\n121611.txt\n121507.txt\n12124.txt\n12988.txt\n121342.txt\n12854.txt\n121461.txt\n121079.txt\n12116.txt\n12674.txt\n12897.txt\n12940.txt\n12939.txt\n1288.txt\n1266.txt\n1253.txt\n121361.txt\n12355.txt\n121331.txt\n121745.txt\n121738.txt\n12980.txt\n12819.txt\n121552.txt\n12927.txt\n1273.txt\n12589.txt\n121362.txt\n121528.txt\n121377.txt\n121707.txt\n121690.txt\n121635.txt\n12734.txt\n121116.txt\n12291.txt\n12191.txt\n12925.txt\n12506.txt\n121286.txt\n121120.txt\n121484.txt\n12278.txt\n12644.txt\n121661.txt\n12183.txt\n121010.txt\n12976.txt\n12816.txt\n121056.txt\n121655.txt\n12195.txt\n12302.txt\n121004.txt\n12333.txt\n12172.txt\n12105.txt\n121368.txt\n121662.txt\n121735.txt\n121606.txt\n12859.txt\n121355.txt\n12777.txt\n121587.txt\n121591.txt\n121188.txt\n121553.txt\n121280.txt\n121649.txt\n12516.txt\n12691.txt\n121160.txt\n12771.txt\n12452.txt\n12348.txt\n121009.txt\n12288.txt\n121639.txt\n121450.txt\n121759.txt\n121496.txt\n12107.txt\n121084.txt\n12791.txt\n121408.txt\n12646.txt\n121360.txt\n12935.txt\n12941.txt\n121627.txt\n121624.txt\n121101.txt\n12233.txt\n12621.txt\n12921.txt\n12836.txt\n121037.txt\n12618.txt\n12900.txt\n121240.txt\n12664.txt\n121070.txt\n121330.txt\n1269.txt\n12576.txt\n12217.txt\n1223.txt\n121369.txt\n121532.txt\n12315.txt\n121425.txt\n121696.txt\n12868.txt\n12522.txt\n12401.txt\n12134.txt\n121102.txt\n121724.txt\n121354.txt\n121481.txt\n121648.txt\n12918.txt\n12478.txt\n121199.txt\n12658.txt\n12767.txt\n121258.txt\n121083.txt\n12216.txt\n121339.txt\n12492.txt\n1231.txt\n121205.txt\n12730.txt\n121504.txt\n121389.txt\n12992.txt\n12498.txt\n12955.txt\n12361.txt\n121569.txt\n121012.txt\n121001.txt\n121154.txt\n121411.txt\n121341.txt\n121058.txt\n121388.txt\n12368.txt\n12450.txt\n121299.txt\n12220.txt\n1216.txt\n1227.txt\n121202.txt\n12784.txt\n12483.txt\n12554.txt\n12735.txt\n121605.txt\n12427.txt\n12869.txt\n12171.txt\n121657.txt\n12145.txt\n12814.txt\n121306.txt\n12488.txt\n12971.txt\n12523.txt\n121421.txt\n121462.txt\n12803.txt\n121349.txt\n121161.txt\n12543.txt\n12905.txt\n12339.txt\n12770.txt\n12529.txt\n121319.txt\n12700.txt\n121352.txt\n12367.txt\n12870.txt\n121236.txt\n12537.txt\n12823.txt\n12698.txt\n121.txt\n12377.txt\n12817.txt\n12649.txt\n12796.txt\n121048.txt\n12626.txt\n12382.txt\n121307.txt\n12839.txt\n121746.txt\n121146.txt\n121192.txt\n12676.txt\n121554.txt\n12110.txt\n12960.txt\n12812.txt\n12879.txt\n121291.txt\n12866.txt\n12594.txt\n12385.txt\n12739.txt\n121556.txt\n12235.txt\n12567.txt\n121517.txt\n12353.txt\n12659.txt\n121122.txt\n12465.txt\n121310.txt\n121080.txt\n121381.txt\n1249.txt\n121231.txt\n12103.txt\n12772.txt\n12354.txt\n1299.txt\n12555.txt\n121390.txt\n12115.txt\n121572.txt\n12544.txt\n12751.txt\n121693.txt\n12540.txt\n1242.txt\n121706.txt\n12826.txt\n12143.txt\n12386.txt\n121232.txt\n12473.txt\n121363.txt\n12132.txt\n12210.txt\n121260.txt\n12560.txt\n12840.txt\n121041.txt\n121401.txt\n12123.txt\n12120.txt\n121304.txt\n12861.txt\n121275.txt\n121736.txt\n121324.txt\n121445.txt\n12471.txt\n12147.txt\n12160.txt\n121626.txt\n12218.txt\n1282.txt\n121705.txt\n1244.txt\n1232.txt\n12117.txt\n12406.txt\n12196.txt\n12714.txt\n12966.txt\n121650.txt\n12938.txt\n12433.txt\n12411.txt\n121197.txt\n12663.txt\n121332.txt\n12877.txt\n121383.txt\n121109.txt\n12437.txt\n12389.txt\n12611.txt\n12480.txt\n121764.txt\n121472.txt\n1294.txt\n12872.txt\n121685.txt\n121322.txt\n12310.txt\n121327.txt\n12425.txt\n121715.txt\n12268.txt\n121173.txt\n12907.txt\n12744.txt\n121375.txt\n12593.txt\n121110.txt\n121749.txt\n12832.txt\n121351.txt\n121519.txt\n12759.txt\n121741.txt\n121247.txt\n12320.txt\n121063.txt\n121765.txt\n121704.txt\n12420.txt\n12652.txt\n1233.txt\n12910.txt\n121595.txt\n121714.txt\n12447.txt\n121588.txt\n121350.txt\n12102.txt\n121592.txt\n121486.txt\n12318.txt\n121127.txt\n121660.txt\n12317.txt\n121747.txt\n121625.txt\n121723.txt\n121457.txt\n12232.txt\n12234.txt\n12338.txt\n12793.txt\n121142.txt\n121560.txt\n12490.txt\n121533.txt\n1213.txt\n121267.txt\n12781.txt\n12259.txt\n121691.txt\n12306.txt\n12880.txt\n12689.txt\n121397.txt\n12319.txt\n12924.txt\n12775.txt\n121562.txt\n12497.txt\n12615.txt\n121733.txt\n1218.txt\n12846.txt\n121483.txt\n121077.txt\n12614.txt\n121328.txt\n121502.txt\n1293.txt\n12187.txt\n12491.txt\n12673.txt"
     ]
    },
    {
     "name": "stdout",
     "output_type": "stream",
     "text": [
      "\n12548.txt\n121314.txt\n12264.txt\n121187.txt\n121645.txt\n12598.txt\n12956.txt\n121251.txt\n121211.txt\n12460.txt\n12438.txt\n12479.txt\n12948.txt\n121531.txt\n121065.txt\n121442.txt\n12274.txt\n12241.txt\n12786.txt\n121104.txt\n121186.txt\n12376.txt\n12928.txt\n121295.txt\n12468.txt\n121456.txt\n12129.txt\n121739.txt\n12193.txt\n121563.txt\n12806.txt\n12788.txt\n12208.txt\n12184.txt\n12360.txt\n12247.txt\n121261.txt\n121233.txt\n12723.txt\n121020.txt\n12138.txt\n121190.txt\n12715.txt\n121335.txt\n12750.txt\n121227.txt\n12745.txt\n12301.txt\n12100.txt\n121608.txt\n"
     ]
    }
   ],
   "source": [
    "# 写入标记文件\n",
    "filename = os.listdir(label_file_path)\n",
    "# with open(label_file_path + '/' + filename[0], 'w') as f:\n",
    "#     print(filename[0])\n",
    "#     f.write(str(1) + ' ' + str(target1_box_convert[0]) + ' ' + str(target1_box_convert[1]) + ' ' \n",
    "#             + str(target1_box_convert[2]) + ' ' + str(target1_box_convert[3]) + '\\n')\n",
    "#     f.write(str(2) + ' ' + str(target2_box_convert[0]) + ' ' + str(target2_box_convert[1]) + ' ' \n",
    "#             + str(target2_box_convert[2]) + ' ' + str(target2_box_convert[3]))\n",
    "for file in filename:\n",
    "    with open(label_file_path + '/' + file, 'w') as f:\n",
    "        print(file)\n",
    "        f.write(str(1) + ' ' + str(target1_box_convert[0]) + ' ' + str(target1_box_convert[1]) + ' ' \n",
    "                + str(target1_box_convert[2]) + ' ' + str(target1_box_convert[3]) + '\\n')\n",
    "        f.write(str(3) + ' ' + str(target3_1_box_convert[0]) + ' ' + str(target3_1_box_convert[1]) + ' ' \n",
    "                + str(target3_1_box_convert[2]) + ' ' + str(target3_1_box_convert[3]) + '\\n')\n",
    "        f.write(str(3) + ' ' + str(target3_2_box_convert[0]) + ' ' + str(target3_2_box_convert[1]) + ' ' \n",
    "                + str(target3_2_box_convert[2]) + ' ' + str(target3_2_box_convert[3]))"
   ]
  },
  {
   "cell_type": "code",
   "execution_count": null,
   "metadata": {},
   "outputs": [],
   "source": [
    ""
   ]
  }
 ],
 "metadata": {
  "kernelspec": {
   "display_name": "Python 2",
   "language": "python",
   "name": "python2"
  },
  "language_info": {
   "codemirror_mode": {
    "name": "ipython",
    "version": 2.0
   },
   "file_extension": ".py",
   "mimetype": "text/x-python",
   "name": "python",
   "nbconvert_exporter": "python",
   "pygments_lexer": "ipython2",
   "version": "2.7.6"
  }
 },
 "nbformat": 4,
 "nbformat_minor": 0
}