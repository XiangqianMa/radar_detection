{
 "cells": [
  {
   "cell_type": "code",
   "execution_count": 4,
   "metadata": {
    "collapsed": true
   },
   "outputs": [
    {
     "name": "stdout",
     "output_type": "stream",
     "text": [
      "load mat file successfully."
     ]
    }
   ],
   "source": [
    "import os\n",
    "import scipy.io as sio\n",
    "import numpy as np\n",
    "\n",
    "# 从mat文件中提取原始标定信息\n",
    "path = '/home/mxqian/Projects/production_practice/data/data1/condition1.mat'\n",
    "# 从经过可视化后的图片文件中提取文件名信息\n",
    "image_path = \"/home/mxqian/Projects/production_practice/data_convert/data1/condition1\"\n",
    "# 存放标记文件的目录\n",
    "label_file_path = \"/home/mxqian/Projects/production_practice/data_convert/label_file/data1/condition1\"\n",
    "mat_file = sio.loadmat(path)\n",
    "print(\"load mat file successfully.\")"
   ]
  },
  {
   "cell_type": "code",
   "execution_count": 22,
   "metadata": {},
   "outputs": [],
   "source": [
    "# size为图片的大小，box为标记信息\n",
    "def convert(size, box):\n",
    "    # 在原始标记信息中，图像宽度和图像高度是反过来的．\n",
    "    width, height = size[1], size[0]\n",
    "    # print(width, height)\n",
    "    x, y, box_width, box_height = box[0], box[1], box[2], box[3]\n",
    "    # print(x, y, box_width, box_height)\n",
    "    x_convert = x/width\n",
    "    y_convert = y/height\n",
    "    box_width_convert = box_width/width\n",
    "    box_height_convert = box_height/height\n",
    "    return x_convert, y_convert, box_width_convert, box_height_convert"
   ]
  },
  {
   "cell_type": "code",
   "execution_count": 37,
   "metadata": {},
   "outputs": [
    {
     "name": "stdout",
     "output_type": "stream",
     "text": [
      "(0.78749999999999998, 0.5, 0.125, 0.234375) (0.14999999999999999, 0.5, 0.125, 0.390625)\n"
     ]
    }
   ],
   "source": [
    "# 该程序块用于对原始标记信息进行归一化\n",
    "size = np.shape(mat_file['source_img'])\n",
    "# print(size)\n",
    "target1_box = mat_file['target1'][0]\n",
    "target2_box = mat_file['target2'][0]\n",
    "# print(target1_box, target2_box)\n",
    "target1_box_convert = convert(size, target1_box)\n",
    "target2_box_convert = convert(size, target2_box)\n",
    "print(target1_box_convert, target2_box_convert)"
   ]
  },
  {
   "cell_type": "code",
   "execution_count": 39,
   "metadata": {},
   "outputs": [
    {
     "ename": "FileExistsError",
     "evalue": "[Errno 17] File exists",
     "traceback": [
      "\u001b[0;31m---------------------------------------------------------------------------\u001b[0m",
      "\u001b[0;31mFileExistsError\u001b[0m                           Traceback (most recent call last)",
      "\u001b[0;32m<ipython-input-39-fac48bb0c13e>\u001b[0m in \u001b[0;36m<module>\u001b[0;34m()\u001b[0m\n\u001b[1;32m      4\u001b[0m \u001b[0;32mfor\u001b[0m \u001b[0mfile\u001b[0m \u001b[0;32min\u001b[0m \u001b[0mimage_filename\u001b[0m\u001b[0;34m:\u001b[0m\u001b[0;34m\u001b[0m\u001b[0m\n\u001b[1;32m      5\u001b[0m     \u001b[0mfile\u001b[0m \u001b[0;34m=\u001b[0m \u001b[0mfile\u001b[0m\u001b[0;34m.\u001b[0m\u001b[0msplit\u001b[0m\u001b[0;34m(\u001b[0m\u001b[0;34m'.'\u001b[0m\u001b[0;34m)\u001b[0m\u001b[0;34m[\u001b[0m\u001b[0;36m0\u001b[0m\u001b[0;34m]\u001b[0m\u001b[0;34m\u001b[0m\u001b[0m\n\u001b[0;32m----> 6\u001b[0;31m     \u001b[0mos\u001b[0m\u001b[0;34m.\u001b[0m\u001b[0mmknod\u001b[0m\u001b[0;34m(\u001b[0m\u001b[0mlabel_file_path\u001b[0m \u001b[0;34m+\u001b[0m \u001b[0;34m\"/\"\u001b[0m \u001b[0;34m+\u001b[0m \u001b[0mfile\u001b[0m \u001b[0;34m+\u001b[0m \u001b[0;34m'.txt'\u001b[0m\u001b[0;34m)\u001b[0m\u001b[0;34m\u001b[0m\u001b[0m\n\u001b[0m",
      "\u001b[0;31mFileExistsError\u001b[0m: [Errno 17] File exists"
     ],
     "output_type": "error"
    }
   ],
   "source": [
    "# 创建标记文件（空文件）\n",
    "image_filename = os.listdir(image_path)\n",
    "# 将样本名称抽取出来，创建同名.txt文件，用于存放标记信息\n",
    "for file in image_filename:\n",
    "    file = file.split('.')[0]\n",
    "    os.mknod(label_file_path + \"/\" + file + '.txt')"
   ]
  },
  {
   "cell_type": "code",
   "execution_count": 38,
   "metadata": {},
   "outputs": [
    {
     "name": "stdout",
     "output_type": "stream",
     "text": [
      "11877.txt\n"
     ]
    }
   ],
   "source": [
    "# 写入标记文件\n",
    "filename = os.listdir(label_file_path)\n",
    "# with open(label_file_path + '/' + filename[0], 'w') as f:\n",
    "#     print(filename[0])\n",
    "#     f.write(str(0) + ' ' + str(target1_box_convert[0]) + ' ' + str(target1_box_convert[1]) + ' ' \n",
    "#             + str(target1_box_convert[2]) + ' ' + str(target1_box_convert[0]))\n",
    "for file in filename:\n",
    "    with open(label_file_path + '/' + file, 'w') as f:\n",
    "        print(file)\n",
    "        f.write(str(1) + ' ' + str(target1_box_convert[0]) + ' ' + str(target1_box_convert[1]) + ' ' \n",
    "                + str(target1_box_convert[2]) + ' ' + str(target1_box_convert[0]) + '\\n')\n",
    "        f.write(str(2) + ' ' + str(target2_box_convert[0]) + ' ' + str(target2_box_convert[1]) + ' ' \n",
    "                + str(target2_box_convert[2]) + ' ' + str(target2_box_convert[0]) + '\\n')"
   ]
  },
  {
   "cell_type": "code",
   "execution_count": null,
   "metadata": {},
   "outputs": [],
   "source": [
    ""
   ]
  }
 ],
 "metadata": {
  "kernelspec": {
   "display_name": "Python 2",
   "language": "python",
   "name": "python2"
  },
  "language_info": {
   "codemirror_mode": {
    "name": "ipython",
    "version": 2.0
   },
   "file_extension": ".py",
   "mimetype": "text/x-python",
   "name": "python",
   "nbconvert_exporter": "python",
   "pygments_lexer": "ipython2",
   "version": "2.7.6"
  }
 },
 "nbformat": 4,
 "nbformat_minor": 0
}